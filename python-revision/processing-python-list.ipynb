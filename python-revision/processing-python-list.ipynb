{
 "cells": [
  {
   "cell_type": "markdown",
   "metadata": {},
   "source": [
    "# Processing python lists\n",
    "\n",
    "* Create Pyhton list from orders\n",
    "* Filter for completed orders\n",
    "* Get unique statuses (use map and set)\n",
    "* Sort the data based on customer id"
   ]
  },
  {
   "cell_type": "code",
   "execution_count": 7,
   "metadata": {},
   "outputs": [],
   "source": [
    "orders = ['1,2013-07-25 00:00:00.0,11599,CLOSED',\n",
    " '2,2013-07-25 00:00:00.0,256,PENDING_PAYMENT',\n",
    " '3,2013-07-25 00:00:00.0,12111,COMPLETE',\n",
    " '4,2013-07-25 00:00:00.0,8827,CLOSED',\n",
    " '5,2013-07-25 00:00:00.0,11318,COMPLETE',\n",
    " '6,2013-07-25 00:00:00.0,7130,COMPLETE',\n",
    " '7,2013-07-25 00:00:00.0,4530,COMPLETE',\n",
    " '8,2013-07-25 00:00:00.0,2911,PROCESSING',\n",
    " '9,2013-07-25 00:00:00.0,5657,PENDING_PAYMENT',\n",
    " '10,2013-07-25 00:00:00.0,5648,PENDING_PAYMENT',\n",
    " '11,2013-07-25 00:00:00.0,918,PAYMENT_REVIEW',\n",
    " '12,2013-07-25 00:00:00.0,1837,CLOSED',\n",
    " '13,2013-07-25 00:00:00.0,9149,PENDING_PAYMENT',\n",
    " '14,2013-07-25 00:00:00.0,9842,PROCESSING',\n",
    " '15,2013-07-25 00:00:00.0,2568,COMPLETE',\n",
    " '16,2013-07-25 00:00:00.0,7276,PENDING_PAYMENT',\n",
    " '17,2013-07-25 00:00:00.0,2667,COMPLETE',\n",
    " '18,2013-07-25 00:00:00.0,1205,CLOSED',\n",
    " '19,2013-07-25 00:00:00.0,9488,PENDING_PAYMENT',\n",
    " '20,2013-07-25 00:00:00.0,9198,PROCESSING']"
   ]
  },
  {
   "cell_type": "code",
   "execution_count": 14,
   "metadata": {},
   "outputs": [
    {
     "data": {
      "text/plain": [
       "['3,2013-07-25 00:00:00.0,12111,COMPLETE',\n",
       " '5,2013-07-25 00:00:00.0,11318,COMPLETE',\n",
       " '6,2013-07-25 00:00:00.0,7130,COMPLETE',\n",
       " '7,2013-07-25 00:00:00.0,4530,COMPLETE',\n",
       " '15,2013-07-25 00:00:00.0,2568,COMPLETE',\n",
       " '17,2013-07-25 00:00:00.0,2667,COMPLETE']"
      ]
     },
     "execution_count": 14,
     "metadata": {},
     "output_type": "execute_result"
    }
   ],
   "source": [
    "#TO get completed orders\n",
    "completed_orders = list(filter(lambda order: order.split(',')[3] == 'COMPLETE' , orders))\n",
    "completed_orders\n"
   ]
  },
  {
   "cell_type": "code",
   "execution_count": 15,
   "metadata": {},
   "outputs": [
    {
     "data": {
      "text/plain": [
       "['1,2013-07-25 00:00:00.0,11599,CLOSED',\n",
       " '3,2013-07-25 00:00:00.0,12111,COMPLETE',\n",
       " '4,2013-07-25 00:00:00.0,8827,CLOSED',\n",
       " '5,2013-07-25 00:00:00.0,11318,COMPLETE',\n",
       " '6,2013-07-25 00:00:00.0,7130,COMPLETE',\n",
       " '7,2013-07-25 00:00:00.0,4530,COMPLETE',\n",
       " '12,2013-07-25 00:00:00.0,1837,CLOSED',\n",
       " '15,2013-07-25 00:00:00.0,2568,COMPLETE',\n",
       " '17,2013-07-25 00:00:00.0,2667,COMPLETE',\n",
       " '18,2013-07-25 00:00:00.0,1205,CLOSED']"
      ]
     },
     "execution_count": 15,
     "metadata": {},
     "output_type": "execute_result"
    }
   ],
   "source": [
    "# TO get complete and closed\n",
    "complete_closed_orders = list(filter(lambda order: order.split(',')[3] in ('CLOSED', 'COMPLETE'), orders))\n",
    "complete_closed_orders"
   ]
  },
  {
   "cell_type": "code",
   "execution_count": 17,
   "metadata": {},
   "outputs": [
    {
     "data": {
      "text/plain": [
       "6"
      ]
     },
     "execution_count": 17,
     "metadata": {},
     "output_type": "execute_result"
    }
   ],
   "source": [
    "# length of pending orders\n",
    "pending_orders = list(filter(lambda order: order.split(',')[3] == 'PENDING_PAYMENT', orders))\n",
    "len(pending_orders)"
   ]
  },
  {
   "cell_type": "code",
   "execution_count": 22,
   "metadata": {},
   "outputs": [
    {
     "data": {
      "text/plain": [
       "{'CLOSED', 'COMPLETE', 'PAYMENT_REVIEW', 'PENDING_PAYMENT', 'PROCESSING'}"
      ]
     },
     "execution_count": 22,
     "metadata": {},
     "output_type": "execute_result"
    }
   ],
   "source": [
    "#Unique order status USE SET {}\n",
    "unique_order_status = set(map(lambda order: order.split(',')[3], orders))\n",
    "unique_order_status"
   ]
  },
  {
   "cell_type": "code",
   "execution_count": 27,
   "metadata": {},
   "outputs": [
    {
     "data": {
      "text/plain": [
       "['3,2013-07-25 00:00:00.0,12111,COMPLETE',\n",
       " '1,2013-07-25 00:00:00.0,11599,CLOSED',\n",
       " '5,2013-07-25 00:00:00.0,11318,COMPLETE',\n",
       " '14,2013-07-25 00:00:00.0,9842,PROCESSING',\n",
       " '19,2013-07-25 00:00:00.0,9488,PENDING_PAYMENT',\n",
       " '20,2013-07-25 00:00:00.0,9198,PROCESSING',\n",
       " '13,2013-07-25 00:00:00.0,9149,PENDING_PAYMENT',\n",
       " '4,2013-07-25 00:00:00.0,8827,CLOSED',\n",
       " '16,2013-07-25 00:00:00.0,7276,PENDING_PAYMENT',\n",
       " '6,2013-07-25 00:00:00.0,7130,COMPLETE',\n",
       " '9,2013-07-25 00:00:00.0,5657,PENDING_PAYMENT',\n",
       " '10,2013-07-25 00:00:00.0,5648,PENDING_PAYMENT',\n",
       " '7,2013-07-25 00:00:00.0,4530,COMPLETE',\n",
       " '8,2013-07-25 00:00:00.0,2911,PROCESSING',\n",
       " '17,2013-07-25 00:00:00.0,2667,COMPLETE',\n",
       " '15,2013-07-25 00:00:00.0,2568,COMPLETE',\n",
       " '12,2013-07-25 00:00:00.0,1837,CLOSED',\n",
       " '18,2013-07-25 00:00:00.0,1205,CLOSED',\n",
       " '11,2013-07-25 00:00:00.0,918,PAYMENT_REVIEW',\n",
       " '2,2013-07-25 00:00:00.0,256,PENDING_PAYMENT']"
      ]
     },
     "execution_count": 27,
     "metadata": {},
     "output_type": "execute_result"
    }
   ],
   "source": [
    "# sort with Ascending cutomer ID\n",
    "sorted_list = sorted(orders, key=lambda order: int(order.split(',')[2]))\n",
    "sorted_list\n",
    "#if Descending sorted MAKE reverse=True\n",
    "desc_sorted_list = sorted(orders, key=lambda order: int(order.split(',')[2]), reverse=True)\n",
    "desc_sorted_list"
   ]
  },
  {
   "cell_type": "code",
   "execution_count": null,
   "metadata": {},
   "outputs": [],
   "source": []
  }
 ],
 "metadata": {
  "kernelspec": {
   "display_name": ".venv",
   "language": "python",
   "name": "python3"
  },
  "language_info": {
   "codemirror_mode": {
    "name": "ipython",
    "version": 3
   },
   "file_extension": ".py",
   "mimetype": "text/x-python",
   "name": "python",
   "nbconvert_exporter": "python",
   "pygments_lexer": "ipython3",
   "version": "3.10.12"
  }
 },
 "nbformat": 4,
 "nbformat_minor": 2
}
