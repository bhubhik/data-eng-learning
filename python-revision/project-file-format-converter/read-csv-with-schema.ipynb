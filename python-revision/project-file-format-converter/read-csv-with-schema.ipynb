{
 "cells": [
  {
   "cell_type": "code",
   "execution_count": 2,
   "metadata": {},
   "outputs": [],
   "source": [
    "import json\n",
    "import pandas as pd\n",
    "import glob"
   ]
  },
  {
   "cell_type": "code",
   "execution_count": 3,
   "metadata": {},
   "outputs": [
    {
     "data": {
      "text/plain": [
       "['../../data/retail_db/categories/part-00000',\n",
       " '../../data/retail_db/customers/part-00000',\n",
       " '../../data/retail_db/orders/part-00000',\n",
       " '../../data/retail_db/products/part-00000',\n",
       " '../../data/retail_db/order_items/part-00000',\n",
       " '../../data/retail_db/departments/part-00000']"
      ]
     },
     "execution_count": 3,
     "metadata": {},
     "output_type": "execute_result"
    }
   ],
   "source": [
    "csv_files = glob.glob('../../data/retail_db/*/part-*')\n",
    "csv_files"
   ]
  },
  {
   "cell_type": "code",
   "execution_count": 5,
   "metadata": {},
   "outputs": [],
   "source": [
    "schemas = json.load(open('../../data/retail_db/schemas.json'))"
   ]
  },
  {
   "cell_type": "code",
   "execution_count": 4,
   "metadata": {},
   "outputs": [],
   "source": [
    "def get_column_names(schemas, data_set_name, sorting_key='column_position'):\n",
    "  column_details = schemas[data_set_name]\n",
    "  columns = sorted(column_details, key=lambda col: col[sorting_key])\n",
    "  column_names = [col['column_name'] for col in columns]\n",
    "  return column_names"
   ]
  },
  {
   "cell_type": "code",
   "execution_count": 11,
   "metadata": {},
   "outputs": [
    {
     "data": {
      "text/plain": [
       "[['..', '..', 'data', 'retail_db', 'categories', 'part-00000'],\n",
       " ['..', '..', 'data', 'retail_db', 'customers', 'part-00000'],\n",
       " ['..', '..', 'data', 'retail_db', 'orders', 'part-00000'],\n",
       " ['..', '..', 'data', 'retail_db', 'products', 'part-00000'],\n",
       " ['..', '..', 'data', 'retail_db', 'order_items', 'part-00000'],\n",
       " ['..', '..', 'data', 'retail_db', 'departments', 'part-00000']]"
      ]
     },
     "execution_count": 11,
     "metadata": {},
     "output_type": "execute_result"
    }
   ],
   "source": [
    "src_file_names = [(file.split('/')) for file in csv_files]\n",
    "src_file_names"
   ]
  },
  {
   "cell_type": "code",
   "execution_count": 17,
   "metadata": {},
   "outputs": [],
   "source": [
    "file = csv_files[0]\n",
    "ds_name = file[-2]"
   ]
  },
  {
   "cell_type": "code",
   "execution_count": 15,
   "metadata": {},
   "outputs": [],
   "source": [
    "columns = get_column_names(schemas, ds_name)"
   ]
  },
  {
   "cell_type": "code",
   "execution_count": 21,
   "metadata": {},
   "outputs": [
    {
     "data": {
      "text/plain": [
       "(58, 3)"
      ]
     },
     "execution_count": 21,
     "metadata": {},
     "output_type": "execute_result"
    }
   ],
   "source": [
    "dataframe = pd.read_csv(file, names=columns)\n",
    "dataframe.shape"
   ]
  },
  {
   "cell_type": "code",
   "execution_count": 23,
   "metadata": {},
   "outputs": [
    {
     "name": "stdout",
     "output_type": "stream",
     "text": [
      "Processing ../../data/retail_db/categories/part-00000\n",
      "Shape of categories is (58, 3)\n",
      "Processing ../../data/retail_db/customers/part-00000\n",
      "Shape of customers is (12435, 9)\n",
      "Processing ../../data/retail_db/orders/part-00000\n",
      "Shape of orders is (68883, 4)\n",
      "Processing ../../data/retail_db/products/part-00000\n",
      "Shape of products is (1345, 6)\n",
      "Processing ../../data/retail_db/order_items/part-00000\n",
      "Shape of order_items is (172198, 6)\n",
      "Processing ../../data/retail_db/departments/part-00000\n",
      "Shape of departments is (6, 2)\n"
     ]
    }
   ],
   "source": [
    "for file in csv_files:\n",
    "  print(f'Processing {file}')\n",
    "  file_path_list = file.split('/')\n",
    "  ds_name = file_path_list[-2]\n",
    "  columns = get_column_names(schemas, ds_name)\n",
    "  df = pd.read_csv(file, names=columns)\n",
    "  print(f'Shape of {ds_name} is {df.shape}')"
   ]
  },
  {
   "cell_type": "code",
   "execution_count": null,
   "metadata": {},
   "outputs": [],
   "source": []
  }
 ],
 "metadata": {
  "kernelspec": {
   "display_name": ".venv",
   "language": "python",
   "name": "python3"
  },
  "language_info": {
   "codemirror_mode": {
    "name": "ipython",
    "version": 3
   },
   "file_extension": ".py",
   "mimetype": "text/x-python",
   "name": "python",
   "nbconvert_exporter": "python",
   "pygments_lexer": "ipython3",
   "version": "3.10.12"
  }
 },
 "nbformat": 4,
 "nbformat_minor": 2
}
