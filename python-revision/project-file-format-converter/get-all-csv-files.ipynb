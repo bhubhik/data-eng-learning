{
 "cells": [
  {
   "cell_type": "code",
   "execution_count": 2,
   "metadata": {},
   "outputs": [],
   "source": [
    "import glob"
   ]
  },
  {
   "cell_type": "code",
   "execution_count": 3,
   "metadata": {},
   "outputs": [
    {
     "data": {
      "text/plain": [
       "['../pandas/outputs',\n",
       " '../pandas/overview.ipynb',\n",
       " '../pandas/writing-dataframe-to-csv-json.ipynb',\n",
       " '../pandas/sorting-data.ipynb',\n",
       " '../pandas/joining-data.ipynb']"
      ]
     },
     "execution_count": 3,
     "metadata": {},
     "output_type": "execute_result"
    }
   ],
   "source": [
    "glob.glob('../pandas/**')"
   ]
  },
  {
   "cell_type": "code",
   "execution_count": 5,
   "metadata": {},
   "outputs": [
    {
     "data": {
      "text/plain": [
       "['../../data/retail_db/categories/part-00000',\n",
       " '../../data/retail_db/customers/part-00000',\n",
       " '../../data/retail_db/orders/part-00000',\n",
       " '../../data/retail_db/products/part-00000',\n",
       " '../../data/retail_db/order_items/part-00000',\n",
       " '../../data/retail_db/departments/part-00000']"
      ]
     },
     "execution_count": 5,
     "metadata": {},
     "output_type": "execute_result"
    }
   ],
   "source": [
    "#To get all the csv files from data\n",
    "csv_files = glob.glob('../../data/retail_db/*/part-*')\n",
    "csv_files"
   ]
  },
  {
   "cell_type": "code",
   "execution_count": 7,
   "metadata": {},
   "outputs": [],
   "source": [
    "import pandas as pd"
   ]
  },
  {
   "cell_type": "code",
   "execution_count": 13,
   "metadata": {},
   "outputs": [
    {
     "name": "stdout",
     "output_type": "stream",
     "text": [
      "Shape of categories is (57, 3)\n",
      "Shape of customers is (12434, 9)\n",
      "Shape of orders is (68882, 4)\n",
      "Shape of products is (1344, 6)\n",
      "Shape of order_items is (172197, 6)\n",
      "Shape of departments is (5, 2)\n"
     ]
    }
   ],
   "source": [
    "def get_file_shape():\n",
    "  for file in csv_files:\n",
    "   dataframe = pd.read_csv(file)\n",
    "   print(f'Shape of {file.split(\"/\")[-2]} is {dataframe.shape}')\n",
    "  \n",
    "get_file_shape()"
   ]
  },
  {
   "cell_type": "code",
   "execution_count": null,
   "metadata": {},
   "outputs": [],
   "source": []
  }
 ],
 "metadata": {
  "kernelspec": {
   "display_name": ".venv",
   "language": "python",
   "name": "python3"
  },
  "language_info": {
   "codemirror_mode": {
    "name": "ipython",
    "version": 3
   },
   "file_extension": ".py",
   "mimetype": "text/x-python",
   "name": "python",
   "nbconvert_exporter": "python",
   "pygments_lexer": "ipython3",
   "version": "3.10.12"
  }
 },
 "nbformat": 4,
 "nbformat_minor": 2
}
